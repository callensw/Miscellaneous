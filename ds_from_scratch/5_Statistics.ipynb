{
 "cells": [
  {
   "cell_type": "markdown",
   "id": "d50c4cf4",
   "metadata": {},
   "source": [
    "# Describing a single set of data"
   ]
  },
  {
   "cell_type": "markdown",
   "id": "a77b7456",
   "metadata": {},
   "source": [
    "## Initial methods"
   ]
  },
  {
   "cell_type": "markdown",
   "id": "57c6eec8",
   "metadata": {},
   "source": [
    "- show the data\n",
    "- chart the data\n",
    "- find the largest and smallest values\n",
    "- find values in specific positions"
   ]
  },
  {
   "cell_type": "markdown",
   "id": "13dda686",
   "metadata": {},
   "source": [
    "## Central Tendencies"
   ]
  },
  {
   "cell_type": "markdown",
   "id": "18af7e94",
   "metadata": {},
   "source": [
    "**Where is our data centered?**\n",
    "\n",
    "- typically the mean, but sometimes the median\n",
    "- a generalization of the median is the *quantile*\n",
    "    - this represents the value under which a certain percentile of the data lies (the median represents the value under which 50% of the data lies)\n",
    "- less commonly, you may use the mode (most common values)"
   ]
  },
  {
   "cell_type": "markdown",
   "id": "68c96d2f",
   "metadata": {},
   "source": [
    "## Dispersion"
   ]
  },
  {
   "cell_type": "markdown",
   "id": "f4fbe923",
   "metadata": {},
   "source": [
    "**Dispersion** \n",
    "\n",
    "- refers to measures of how spread out the data is\n",
    "\n",
    "**Range**\n",
    "  \n",
    "- difference between the largest and smallest elements\n",
    "\n",
    "**Variance**\n",
    "\n",
    "- more complex measure of dispersion\n",
    "- almost the average squared deviation from the mean\n",
    "    - we are dividing by n-1 instead of n\n",
    "    - x_bar is only an estimate of the actual mean, which means that the average (x_i - x_bar) ** 2 is an underestimate of x_i's squared deviation from the mean, which is why we divide by n-1 instead of n\n",
    "    \n",
    "    \n",
    "    from scratch.linear_algebra import sum_of_squares\n",
    "\n",
    "    def de_mean(xs: List[float]) -> List[float]:\n",
    "        \"\"\"Translate xs by subtracting its mean (so the result has mean 0)\"\"\"\n",
    "        x_bar = mean(xs)\n",
    "        return [x - x_bar for x in xs]\n",
    "\n",
    "    def variance(xs: List[float]) -> float:\n",
    "        \"\"\"Almost the average squared deviation from the mean\"\"\"\n",
    "        assert len(xs) >= 2, \"variance requires at least two elements\"\n",
    "\n",
    "        n = len(xs)\n",
    "        deviations = de_mean(xs)\n",
    "        return sum_of_squares(deviations) / (n - 1)\n",
    "\n",
    "    assert 81.54 < variance(num_friends) < 81.55\n",
    "    \n",
    "**Standard deviation**\n",
    "\n",
    "- the square root of the variance\n",
    "\n",
    "\n",
    "    import math\n",
    "\n",
    "    def standard_deviation(xs: List[float]) -> float:\n",
    "        \"\"\"The standard deviation is the square root of the variance\"\"\"\n",
    "        return math.sqrt(variance(xs))\n",
    "\n",
    "    assert 9.02 < standard_deviation(num_friends) < 9.04\n",
    "   "
   ]
  },
  {
   "cell_type": "markdown",
   "id": "fe7c6425",
   "metadata": {},
   "source": [
    "Both the range and the standard deviation have the same outlier problem as the mean. \n",
    "\n",
    "A more robust alternative computes the difference between the 75th percentile value and the 25th percentile value."
   ]
  },
  {
   "cell_type": "markdown",
   "id": "5b501f98",
   "metadata": {},
   "source": [
    "**Interquartile range**\n",
    "\n",
    "- the difference between the 75%-ile and the 25%-ile\n",
    "\n",
    "\n",
    "\n",
    "    def interquartile_range(xs: List[float]) -> float:\n",
    "        \"\"\"Returns the difference between the 75%-ile and the 25%-ile\"\"\"\n",
    "        return quantile(xs, 0.75) - quantile(xs, 0.25)\n",
    "\n",
    "    assert interquartile_range(num_friends) == 6\n"
   ]
  },
  {
   "cell_type": "markdown",
   "id": "2a59d386",
   "metadata": {},
   "source": [
    "## Correlation"
   ]
  },
  {
   "cell_type": "markdown",
   "id": "bacb9c89",
   "metadata": {},
   "source": [
    "**Covariance**\n",
    "\n",
    "- the paired analogue of variance\n",
    "- whereas variance measures how a single variable deviates from its mean, covariance measures how two variables vary in tandem from their means\n",
    "\n",
    "    def covariance(xs: List[float], ys: List[float]) -> float:\n",
    "\n",
    "\n",
    "        assert len(xs) == len(ys), \"xs and ys must have same number of elements\"\n",
    "        return dot(de_mean(xs), de_mean(ys)) / (len(xs) - 1)\n",
    "\n",
    "    assert 22.42 < covariance(num_friends, daily_minutes) < 22.43\n",
    "\n",
    "    assert 22.42 / 60 < covariance(num_friends, daily_hours) < 22.43 / 60"
   ]
  },
  {
   "cell_type": "markdown",
   "id": "7ebc3290",
   "metadata": {},
   "source": [
    "Recall that dot sums of the product of corresponding pairs of elements. \n",
    "\n",
    "- When corresponding elements of x and y are either both above their means or both below their means, a positive number enters the sum. \n",
    "- When one is above and the other is below, a negative number enters the sum.\n",
    "- A large \"positive\" covariance means that x tends to be large when y is large and small when y is small\n",
    "- A large \"negative\" covariance means that x tends to be large when y is small and small when y is large\n",
    "- A covariance close to \"zero\" means that no such relationship exists"
   ]
  },
  {
   "cell_type": "markdown",
   "id": "ae7dbb85",
   "metadata": {},
   "source": [
    "- This number can be hard to interpret\n",
    "    - its units are the product of the inputs' units, which can be hard to make sense of\n",
    "    - it's hard to say what counts as large covariance"
   ]
  },
  {
   "cell_type": "markdown",
   "id": "43edbbd3",
   "metadata": {},
   "source": [
    "For this reason, it's more common to look at **correlation**.\n",
    "\n",
    "- divides out the standard deviations of both variables\n",
    "- measures how much xs and ys vary in tandem about their means\n",
    "\n",
    "\n",
    "    def correlation(xs: List[float], ys: List[float]) -> float:\n",
    "        \"\"\"Measures how much xs and ys vary in tandem about their means\"\"\"\n",
    "        stdev_x = standard_deviation(xs)\n",
    "        stdev_y = standard_deviation(ys)\n",
    "        if stdev_x > 0 and stdev_y > 0:\n",
    "            return covariance(xs, ys) / stdev_x / stdev_y\n",
    "        else:\n",
    "            return 0    # if no variation, correlation is zero\n",
    "\n",
    "    assert 0.24 < correlation(num_friends, daily_minutes) < 0.25\n",
    "    \n",
    "    assert 0.24 < correlation(num_friends, daily_hours) < 0.25"
   ]
  },
  {
   "cell_type": "markdown",
   "id": "07b5961a",
   "metadata": {},
   "source": [
    "Correlation is always unitless and always lies between -1 (perfect anticorrelation) and 1 (perfect correlation). \n",
    "\n",
    "- a number like 0.25 always represents a relatively weak positive correlation"
   ]
  },
  {
   "cell_type": "markdown",
   "id": "9f97c864",
   "metadata": {},
   "source": [
    "Correlation can be very sensitive to outliers. Try to remove if possible."
   ]
  },
  {
   "cell_type": "markdown",
   "id": "d1d1d396",
   "metadata": {},
   "source": [
    "## Simpson's paradox"
   ]
  },
  {
   "cell_type": "markdown",
   "id": "56e4f3e6",
   "metadata": {},
   "source": [
    "- correlations can be misleading when confounding variables are ignored"
   ]
  },
  {
   "cell_type": "markdown",
   "id": "8b8c8084",
   "metadata": {},
   "source": [
    "Example: looking at number of friends by region, but neglecting to look at type of degree"
   ]
  },
  {
   "cell_type": "markdown",
   "id": "fbedceac",
   "metadata": {},
   "source": [
    "## Some other correlational caveats"
   ]
  },
  {
   "cell_type": "markdown",
   "id": "4f29cedf",
   "metadata": {},
   "source": [
    "- A correlation of zero indicates that there is no linear relationship between the two variiables"
   ]
  },
  {
   "cell_type": "markdown",
   "id": "291f16c6",
   "metadata": {},
   "source": [
    "## Correlation and causation"
   ]
  },
  {
   "cell_type": "markdown",
   "id": "446212e4",
   "metadata": {},
   "source": [
    "Correlation can mean causation, but doesn't mean."
   ]
  },
  {
   "cell_type": "markdown",
   "id": "961ecc48",
   "metadata": {},
   "source": [
    "- One way to feel more confident about causality is by conducting randomized trials"
   ]
  },
  {
   "cell_type": "code",
   "execution_count": null,
   "id": "7113d692",
   "metadata": {},
   "outputs": [],
   "source": []
  }
 ],
 "metadata": {
  "kernelspec": {
   "display_name": "Python 3 (ipykernel)",
   "language": "python",
   "name": "python3"
  },
  "language_info": {
   "codemirror_mode": {
    "name": "ipython",
    "version": 3
   },
   "file_extension": ".py",
   "mimetype": "text/x-python",
   "name": "python",
   "nbconvert_exporter": "python",
   "pygments_lexer": "ipython3",
   "version": "3.9.6"
  }
 },
 "nbformat": 4,
 "nbformat_minor": 5
}
