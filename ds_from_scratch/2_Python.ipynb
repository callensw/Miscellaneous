{
 "cells": [
  {
   "cell_type": "markdown",
   "id": "de317005",
   "metadata": {},
   "source": [
    "## List Comprehension"
   ]
  },
  {
   "cell_type": "code",
   "execution_count": 21,
   "id": "0de45ff8",
   "metadata": {},
   "outputs": [
    {
     "data": {
      "text/plain": [
       "[0, 2, 4]"
      ]
     },
     "execution_count": 21,
     "metadata": {},
     "output_type": "execute_result"
    }
   ],
   "source": [
    "even_numbers = [x for x in range(5) if x % 2 == 0] \n",
    "even_numbers"
   ]
  },
  {
   "cell_type": "code",
   "execution_count": 22,
   "id": "15c85e49",
   "metadata": {},
   "outputs": [
    {
     "data": {
      "text/plain": [
       "[0, 1, 4, 9, 16]"
      ]
     },
     "execution_count": 22,
     "metadata": {},
     "output_type": "execute_result"
    }
   ],
   "source": [
    "squares = [x * x for x in range(5)]\n",
    "squares"
   ]
  },
  {
   "cell_type": "code",
   "execution_count": 23,
   "id": "63538dcb",
   "metadata": {},
   "outputs": [
    {
     "data": {
      "text/plain": [
       "[0, 4, 16]"
      ]
     },
     "execution_count": 23,
     "metadata": {},
     "output_type": "execute_result"
    }
   ],
   "source": [
    "even_squares = [x * x for x in  even_numbers]\n",
    "even_squares"
   ]
  },
  {
   "cell_type": "code",
   "execution_count": 25,
   "id": "6d5f8fc3",
   "metadata": {},
   "outputs": [
    {
     "data": {
      "text/plain": [
       "{0: 0, 1: 1, 2: 4, 3: 9, 4: 16}"
      ]
     },
     "execution_count": 25,
     "metadata": {},
     "output_type": "execute_result"
    }
   ],
   "source": [
    "square_dict = {x: x * x for x in range(5)}\n",
    "square_dict"
   ]
  },
  {
   "cell_type": "code",
   "execution_count": 27,
   "id": "f3595627",
   "metadata": {},
   "outputs": [
    {
     "data": {
      "text/plain": [
       "{1}"
      ]
     },
     "execution_count": 27,
     "metadata": {},
     "output_type": "execute_result"
    }
   ],
   "source": [
    "square_set ={x * x for x in [1, -1]}\n",
    "square_set"
   ]
  },
  {
   "cell_type": "code",
   "execution_count": 29,
   "id": "e383adb2",
   "metadata": {},
   "outputs": [
    {
     "data": {
      "text/plain": [
       "[0, 0, 0]"
      ]
     },
     "execution_count": 29,
     "metadata": {},
     "output_type": "execute_result"
    }
   ],
   "source": [
    "zeros = [0 for _ in even_numbers] # all zeroes with same length as even_numbers\n",
    "zeros"
   ]
  },
  {
   "cell_type": "code",
   "execution_count": 31,
   "id": "aa809292",
   "metadata": {},
   "outputs": [],
   "source": [
    "pairs = [(x,y)\n",
    "        for x in range(10)\n",
    "        for y in range(10)] # 100 pairs (0,0), (0,1) ... (9,8), (9,9)"
   ]
  },
  {
   "cell_type": "code",
   "execution_count": 33,
   "id": "2e34fd6c",
   "metadata": {},
   "outputs": [],
   "source": [
    "increasing_pairs = [(x,y)                         # Only pairs with x < y\n",
    "                   for x in range(10)             # range(lo, hi) equals\n",
    "                   for y in range(x +1, 10)]      # [lo, lo + 1, ..., hi - 1]"
   ]
  },
  {
   "cell_type": "markdown",
   "id": "023f1b0b",
   "metadata": {},
   "source": [
    "## Iterables and Generators"
   ]
  },
  {
   "cell_type": "code",
   "execution_count": 1,
   "id": "d3d26796",
   "metadata": {},
   "outputs": [],
   "source": [
    "def generate_range(n):\n",
    "    i = 0\n",
    "    while i < n:\n",
    "        yield i # every call to yield produces a value of the generator\n",
    "        i += 1"
   ]
  },
  {
   "cell_type": "code",
   "execution_count": 2,
   "id": "19d7f4ad",
   "metadata": {},
   "outputs": [
    {
     "name": "stdout",
     "output_type": "stream",
     "text": [
      "i: 0\n",
      "i: 1\n",
      "i: 2\n",
      "i: 3\n",
      "i: 4\n",
      "i: 5\n",
      "i: 6\n",
      "i: 7\n",
      "i: 8\n",
      "i: 9\n"
     ]
    }
   ],
   "source": [
    "for i in generate_range(10):\n",
    "    print(f\"i: {i}\")"
   ]
  },
  {
   "cell_type": "markdown",
   "id": "582938b1",
   "metadata": {},
   "source": [
    "### Generators (Comprehension)"
   ]
  },
  {
   "cell_type": "code",
   "execution_count": 3,
   "id": "120ab8fc",
   "metadata": {},
   "outputs": [],
   "source": [
    "evens_below_20 = (i for i in generate_range(20) if i % 2 == 0)"
   ]
  },
  {
   "cell_type": "code",
   "execution_count": 4,
   "id": "ee90f99e",
   "metadata": {},
   "outputs": [],
   "source": [
    "def natural_numbers():\n",
    "    \"\"\"returns 1, 2, 3...\"\"\"\n",
    "    n = 1\n",
    "    while True:\n",
    "        yield n\n",
    "        n += 1\n",
    "\n",
    "data = natural_numbers()\n",
    "evens = (x for x in data if x % 2 == 0)\n",
    "even_squares = (x ** 2 for x in evens)\n",
    "even_squares_ending_in_six = (x for x in even_squares if x % 10 == 6)"
   ]
  },
  {
   "cell_type": "code",
   "execution_count": 5,
   "id": "86e20b9e",
   "metadata": {},
   "outputs": [
    {
     "name": "stdout",
     "output_type": "stream",
     "text": [
      "<generator object <genexpr> at 0x0000026B1A32C0B0>\n"
     ]
    }
   ],
   "source": [
    "print(even_squares_ending_in_six)"
   ]
  },
  {
   "cell_type": "code",
   "execution_count": 6,
   "id": "7f68ef68",
   "metadata": {},
   "outputs": [
    {
     "name": "stdout",
     "output_type": "stream",
     "text": [
      "name 0 is Alice\n",
      "name 1 is Bob\n",
      "name 2 is Charlie\n",
      "name 3 is Debbie\n"
     ]
    }
   ],
   "source": [
    "names = [\"Alice\", \"Bob\", \"Charlie\", \"Debbie\"]\n",
    "\n",
    "for i, name in enumerate(names):\n",
    "    print(f\"name {i} is {name}\")"
   ]
  },
  {
   "cell_type": "markdown",
   "id": "5fcc2b61",
   "metadata": {},
   "source": [
    "## Randomness"
   ]
  },
  {
   "cell_type": "markdown",
   "id": "9a0a4db3",
   "metadata": {},
   "source": [
    "Generate random numbers"
   ]
  },
  {
   "cell_type": "code",
   "execution_count": 7,
   "id": "cd09fb57",
   "metadata": {},
   "outputs": [
    {
     "name": "stdout",
     "output_type": "stream",
     "text": [
      "[0.5714025946899135, 0.4288890546751146, 0.5780913011344704, 0.20609823213950174]\n"
     ]
    }
   ],
   "source": [
    "import random\n",
    "random.seed(10) # this ensures we get the same results every time\n",
    "four_uniform_randoms = [random.random() for _ in range(4)]\n",
    "print(four_uniform_randoms)"
   ]
  },
  {
   "cell_type": "markdown",
   "id": "32fa72b6",
   "metadata": {},
   "source": [
    "Take 1 or two arguments and return an element chosen randomly from the range"
   ]
  },
  {
   "cell_type": "code",
   "execution_count": 8,
   "id": "c8842036",
   "metadata": {},
   "outputs": [
    {
     "name": "stdout",
     "output_type": "stream",
     "text": [
      "7\n"
     ]
    }
   ],
   "source": [
    "print(random.randrange(10))"
   ]
  },
  {
   "cell_type": "code",
   "execution_count": 9,
   "id": "05096b14",
   "metadata": {},
   "outputs": [
    {
     "name": "stdout",
     "output_type": "stream",
     "text": [
      "4\n"
     ]
    }
   ],
   "source": [
    "print(random.randrange(3, 6))"
   ]
  },
  {
   "cell_type": "markdown",
   "id": "cee809dd",
   "metadata": {},
   "source": [
    "Randomly reorder elements of a list"
   ]
  },
  {
   "cell_type": "code",
   "execution_count": 10,
   "id": "f3f79e94",
   "metadata": {},
   "outputs": [
    {
     "name": "stdout",
     "output_type": "stream",
     "text": [
      "[4, 5, 6, 7, 2, 9, 10, 8, 1, 3]\n"
     ]
    }
   ],
   "source": [
    "up_to_ten = [1, 2, 3, 4, 5, 6, 7, 8, 9, 10]\n",
    "random.shuffle(up_to_ten)\n",
    "print(up_to_ten)"
   ]
  },
  {
   "cell_type": "markdown",
   "id": "507bad1f",
   "metadata": {},
   "source": [
    "Randomly pick one element from a list"
   ]
  },
  {
   "cell_type": "code",
   "execution_count": 11,
   "id": "eac91fca",
   "metadata": {},
   "outputs": [
    {
     "name": "stdout",
     "output_type": "stream",
     "text": [
      "Alice\n"
     ]
    }
   ],
   "source": [
    "my_best_friend = random.choice([\"Alice\", \"Bob\", \"Charlie\"])\n",
    "print(my_best_friend)"
   ]
  },
  {
   "cell_type": "markdown",
   "id": "6338e577",
   "metadata": {},
   "source": [
    "Choose a sample of elements without replacement"
   ]
  },
  {
   "cell_type": "code",
   "execution_count": 12,
   "id": "4740b950",
   "metadata": {},
   "outputs": [
    {
     "name": "stdout",
     "output_type": "stream",
     "text": [
      "[38, 22, 24, 26, 18, 52]\n"
     ]
    }
   ],
   "source": [
    "lottery_numbers = range(60)\n",
    "winning_numbers = random.sample(lottery_numbers, 6)\n",
    "print(winning_numbers)"
   ]
  },
  {
   "cell_type": "markdown",
   "id": "6f96f8b8",
   "metadata": {},
   "source": [
    "Choose a sample of elements with replacement"
   ]
  },
  {
   "cell_type": "code",
   "execution_count": 13,
   "id": "dfeb6978",
   "metadata": {},
   "outputs": [
    {
     "name": "stdout",
     "output_type": "stream",
     "text": [
      "[4, 7, 2, 4]\n"
     ]
    }
   ],
   "source": [
    "four_with_replacement = [random.choice(range(10)) for _ in range(4)]\n",
    "print(four_with_replacement)"
   ]
  },
  {
   "cell_type": "markdown",
   "id": "8d26bab1",
   "metadata": {},
   "source": [
    "## Regular Expressions (Regex)"
   ]
  },
  {
   "cell_type": "code",
   "execution_count": 19,
   "id": "33aacf29",
   "metadata": {},
   "outputs": [],
   "source": [
    "import re\n",
    "\n",
    "re_examples = [                             # All of these are true because\n",
    "    not re.match(\"a\", \"cat\"),               # 'cat' doesn't start with 'a'\n",
    "    re.search(\"a\", \"cat\"),                  # 'cat' has an 'a' in it\n",
    "    not re.search(\"c\", \"dog\"),              # 'dog' doesn't have a 'c' in it\n",
    "    3 == len(re.split(\"[ab]\", \"carbs\")),    # Split on a or b to ['c', 'r', 's']\n",
    "    \"R-D-\" == re.sub(\"[0-9]\", \"-\", \"R2D2\")  # Replace digits with dashes\n",
    "]\n",
    "\n",
    "assert all(re_examples), \"all the regex examples should be True\""
   ]
  },
  {
   "cell_type": "markdown",
   "id": "47772200",
   "metadata": {},
   "source": [
    "- **re.match()** checks if the beginning of a string matches a regular expression\n",
    "- **re.search()** checks whether any part of a string matches a regular expression"
   ]
  }
 ],
 "metadata": {
  "kernelspec": {
   "display_name": "Python 3 (ipykernel)",
   "language": "python",
   "name": "python3"
  },
  "language_info": {
   "codemirror_mode": {
    "name": "ipython",
    "version": 3
   },
   "file_extension": ".py",
   "mimetype": "text/x-python",
   "name": "python",
   "nbconvert_exporter": "python",
   "pygments_lexer": "ipython3",
   "version": "3.9.6"
  }
 },
 "nbformat": 4,
 "nbformat_minor": 5
}
