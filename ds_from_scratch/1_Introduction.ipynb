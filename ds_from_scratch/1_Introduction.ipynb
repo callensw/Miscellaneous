{
 "cells": [
  {
   "cell_type": "markdown",
   "id": "8c97c632",
   "metadata": {},
   "source": [
    "# Finding Key Connectors"
   ]
  },
  {
   "cell_type": "markdown",
   "id": "510aa48f",
   "metadata": {},
   "source": [
    "## Provided Data"
   ]
  },
  {
   "cell_type": "code",
   "execution_count": 1,
   "id": "086ce05d",
   "metadata": {},
   "outputs": [],
   "source": [
    "users = [\n",
    "    { \"id\": 0, \"name\": \"Hero\" },\n",
    "    { \"id\": 1, \"name\": \"Dunn\" },\n",
    "    { \"id\": 2, \"name\": \"Sue\" },\n",
    "    { \"id\": 3, \"name\": \"Chi\" },\n",
    "    { \"id\": 4, \"name\": \"Thor\" },\n",
    "    { \"id\": 5, \"name\": \"Clive\" },\n",
    "    { \"id\": 6, \"name\": \"Hicks\" },\n",
    "    { \"id\": 7, \"name\": \"Devin\" },\n",
    "    { \"id\": 8, \"name\": \"Kate\" },\n",
    "    { \"id\": 9, \"name\": \"Klein\" }\n",
    "]\n",
    "\n",
    "friendship_pairs = [(0,1), (0,2), (1,2), (1,3), (2,3), (3,4), (4,5), (5,6),\n",
    "                   (5,7), (6,8), (7,8), (8,9)]"
   ]
  },
  {
   "cell_type": "markdown",
   "id": "bb032691",
   "metadata": {},
   "source": [
    "## Preparing data"
   ]
  },
  {
   "cell_type": "markdown",
   "id": "8b7864c3",
   "metadata": {},
   "source": [
    "### Create a dict where keys are user ids and values are lists of friends ids"
   ]
  },
  {
   "cell_type": "code",
   "execution_count": 2,
   "id": "9bd0bb78",
   "metadata": {},
   "outputs": [],
   "source": [
    "# Initialize the dict with an empy list for each user id:\n",
    "friendships = {user[\"id\"]: [] for user in users}"
   ]
  },
  {
   "cell_type": "code",
   "execution_count": 3,
   "id": "84ac7591",
   "metadata": {},
   "outputs": [
    {
     "data": {
      "text/plain": [
       "{0: [], 1: [], 2: [], 3: [], 4: [], 5: [], 6: [], 7: [], 8: [], 9: []}"
      ]
     },
     "execution_count": 3,
     "metadata": {},
     "output_type": "execute_result"
    }
   ],
   "source": [
    "friendships"
   ]
  },
  {
   "cell_type": "code",
   "execution_count": 4,
   "id": "cc7fbb39",
   "metadata": {},
   "outputs": [],
   "source": [
    "# Loop over the friendship pairs to populate the dict\n",
    "for i, j in friendship_pairs:\n",
    "    friendships[i].append(j) # Add j as a friend of user i\n",
    "    friendships[j].append(i) # Add i as a friend of user j"
   ]
  },
  {
   "cell_type": "code",
   "execution_count": 5,
   "id": "2d5374c8",
   "metadata": {},
   "outputs": [
    {
     "data": {
      "text/plain": [
       "{0: [1, 2],\n",
       " 1: [0, 2, 3],\n",
       " 2: [0, 1, 3],\n",
       " 3: [1, 2, 4],\n",
       " 4: [3, 5],\n",
       " 5: [4, 6, 7],\n",
       " 6: [5, 8],\n",
       " 7: [5, 8],\n",
       " 8: [6, 7, 9],\n",
       " 9: [8]}"
      ]
     },
     "execution_count": 5,
     "metadata": {},
     "output_type": "execute_result"
    }
   ],
   "source": [
    "# Print the dict\n",
    "friendships"
   ]
  },
  {
   "cell_type": "markdown",
   "id": "ec789a48",
   "metadata": {},
   "source": [
    "## What's the average number of connections?"
   ]
  },
  {
   "cell_type": "markdown",
   "id": "faf5d055",
   "metadata": {},
   "source": [
    "### First, we find the total number of connections"
   ]
  },
  {
   "cell_type": "code",
   "execution_count": 6,
   "id": "c65da4f9",
   "metadata": {},
   "outputs": [],
   "source": [
    "# Create a function to find total number of connections\n",
    "def number_of_friends(user):\n",
    "    \"\"\"How many friends does _user_ have\"\"\"\n",
    "    user_id = user[\"id\"]\n",
    "    friend_ids = friendships[user_id]\n",
    "    return len(friend_ids)\n",
    "\n",
    "total_connections = sum(number_of_friends(user) for user in users)"
   ]
  },
  {
   "cell_type": "code",
   "execution_count": 7,
   "id": "9c0daf46",
   "metadata": {},
   "outputs": [
    {
     "name": "stdout",
     "output_type": "stream",
     "text": [
      "24\n"
     ]
    }
   ],
   "source": [
    "print(total_connections)"
   ]
  },
  {
   "cell_type": "markdown",
   "id": "82623ec5",
   "metadata": {},
   "source": [
    "### Then we divide by the number of users"
   ]
  },
  {
   "cell_type": "code",
   "execution_count": 8,
   "id": "48dfaa66",
   "metadata": {},
   "outputs": [
    {
     "name": "stdout",
     "output_type": "stream",
     "text": [
      "2.4\n"
     ]
    }
   ],
   "source": [
    "num_users = len(users) # length of the users list\n",
    "avg_connections = total_connections / num_users # 24 / 10 == 2.4\n",
    "print(avg_connections)"
   ]
  },
  {
   "cell_type": "code",
   "execution_count": 17,
   "id": "9bfd1e1a",
   "metadata": {},
   "outputs": [
    {
     "name": "stdout",
     "output_type": "stream",
     "text": [
      "[(1, 3), (2, 3), (3, 3), (5, 3), (8, 3), (0, 2), (4, 2), (6, 2), (7, 2), (9, 1)]\n"
     ]
    }
   ],
   "source": [
    "# Create a list (user_id, number_of_friends)\n",
    "num_friends_by_id = [(user[\"id\"], number_of_friends(user)) for user in users]\n",
    "num_friends_by_id.sort(\n",
    "        key=lambda id_and_friends: id_and_friends[1],\n",
    "        reverse=True)\n",
    "print(num_friends_by_id)"
   ]
  },
  {
   "cell_type": "markdown",
   "id": "3b78fe88",
   "metadata": {},
   "source": [
    "One way to think of what we've done is as a way of identifying people who are somehow central to the network. In fact, what we've just computed is the network metric **_degree centrality_**."
   ]
  },
  {
   "cell_type": "markdown",
   "id": "a15dd392",
   "metadata": {},
   "source": [
    "# Data Scientists You May Know\n",
    "**Design a \"Data Scientists You May Know\" suggester**"
   ]
  },
  {
   "cell_type": "code",
   "execution_count": 33,
   "id": "4653cb78",
   "metadata": {},
   "outputs": [],
   "source": [
    "# Define function to iterate over users friends and collect the friends' friends\n",
    "def foaf_ids_bad(user):\n",
    "    \"\"\"foaf is short for \"friend of a friend\" \"\"\"\n",
    "    return [foaf_id for friend_id in friendships[user[\"id\"]] for foaf_id in friendships[friend_id]]"
   ]
  },
  {
   "cell_type": "markdown",
   "id": "3cd9db20",
   "metadata": {},
   "source": [
    "List comprehension of:\n",
    "```\n",
    "foaf_id = []\n",
    "for friend_id in friendships[user[\"id\"]]:\n",
    "    for i in friendships[friend_id]:\n",
    "        foaf_id.append(i)\n",
    "return foaf_id\n",
    "```"
   ]
  },
  {
   "cell_type": "code",
   "execution_count": 29,
   "id": "02055c95",
   "metadata": {},
   "outputs": [
    {
     "data": {
      "text/plain": [
       "[0, 2, 3, 0, 1, 3]"
      ]
     },
     "execution_count": 29,
     "metadata": {},
     "output_type": "execute_result"
    }
   ],
   "source": [
    "foaf_ids_bad(users[0])"
   ]
  },
  {
   "cell_type": "code",
   "execution_count": 34,
   "id": "c2c8ff34",
   "metadata": {},
   "outputs": [
    {
     "name": "stdout",
     "output_type": "stream",
     "text": [
      "[1, 2]\n"
     ]
    }
   ],
   "source": [
    "print(friendships[0]) # Friends of User 0"
   ]
  },
  {
   "cell_type": "code",
   "execution_count": 35,
   "id": "dc9e5f05",
   "metadata": {},
   "outputs": [
    {
     "name": "stdout",
     "output_type": "stream",
     "text": [
      "[0, 2, 3]\n"
     ]
    }
   ],
   "source": [
    "print(friendships[1]) # Friends of User 1"
   ]
  },
  {
   "cell_type": "code",
   "execution_count": 36,
   "id": "fac5b058",
   "metadata": {},
   "outputs": [
    {
     "name": "stdout",
     "output_type": "stream",
     "text": [
      "[0, 1, 3]\n"
     ]
    }
   ],
   "source": [
    "print(friendships[2]) # Friends of User 2"
   ]
  },
  {
   "cell_type": "markdown",
   "id": "c3ec0c5d",
   "metadata": {},
   "source": [
    "Knowing people are friends of friends in multiple ways seems like interesting information, so maybe instead we should produce a count of mutuall friends. And we should probably exclude people already known to the use. (i.e. don't include user 1 or 2 since they are already friends of user 0)"
   ]
  },
  {
   "cell_type": "code",
   "execution_count": 38,
   "id": "da3a7dcd",
   "metadata": {},
   "outputs": [],
   "source": [
    "from collections import Counter\n",
    "def friends_of_friends(user):\n",
    "    user_id = user[\"id\"]\n",
    "    return Counter(foaf_id \n",
    "                   for friend_id in friendships[user_id] # for each of my friends,\n",
    "                   for foaf_id in friendships[friend_id] # find their friends\n",
    "                   if foaf_id != user_id # who aren't me\n",
    "                   and foaf_id not in friendships[user_id] # and aren't my friends\n",
    "                  )"
   ]
  },
  {
   "cell_type": "code",
   "execution_count": 39,
   "id": "720f028f",
   "metadata": {},
   "outputs": [
    {
     "name": "stdout",
     "output_type": "stream",
     "text": [
      "Counter({0: 2, 5: 1})\n"
     ]
    }
   ],
   "source": [
    "print(friends_of_friends(users[3]))"
   ]
  },
  {
   "cell_type": "markdown",
   "id": "ea15b66f",
   "metadata": {},
   "source": [
    "This correctly tells us Chi (id 3) that she has two mutual friends with Hero (id 0) but only one mutual friend with Clive (id 5)."
   ]
  },
  {
   "cell_type": "markdown",
   "id": "ac08916e",
   "metadata": {},
   "source": [
    "Chi (id 3) is not currently connected with Hero (id 0) or Clive (id 5)."
   ]
  },
  {
   "cell_type": "code",
   "execution_count": 42,
   "id": "eecf8542",
   "metadata": {},
   "outputs": [],
   "source": [
    "# Declare list of user_ids and their interests\n",
    "interests = [\n",
    "    (0, \"Hadoop\"), (0, \"Big Data\"), (0, \"HBase\"), (0, \"Java\"),\n",
    "    (0, \"Spark\"), (0, \"Storm\"), (0, \"Cassandra\"),\n",
    "    (1, \"NoSQL\"), (1, \"MongoDB\"), (1, \"Cassandra\"), (1, \"HBase\"),\n",
    "    (1, \"Postgres\"), (2, \"Python\"), (2, \"scikit-learn\"), (2, \"scipy\"),\n",
    "    (2, \"numpy\"), (2, \"statsmodels\"), (2, \"pandas\"), (3, \"R\"), (3, \"Python\"),\n",
    "    (3, \"statistics\"), (3, \"regression\"), (3, \"probability\"),\n",
    "    (4, \"machine learning\"), (4, \"regression\"), (4, \"decision trees\"),\n",
    "    (4, \"libsvm\"), (5, \"Python\"), (5, \"R\"), (5, \"Java\"), (5, \"C++\"),\n",
    "    (5, \"Haskell\"), (5, \"programming languages\"), (6, \"statistics\"),\n",
    "    (6, \"probability\"), (6, \"mathematics\"), (6, \"theory\"),\n",
    "    (7, \"machine learning\"), (7, \"scikit-learn\"), (7, \"Mahout\"),\n",
    "    (7, \"neural networks\"), (8, \"neural networks\"), (8, \"deep learning\"),\n",
    "    (8, \"Big Data\"), (8, \"artificial intelligence\"), (9, \"Hadoop\"),\n",
    "    (9, \"Java\"), (9, \"MapReduce\"), (9, \"Big Data\")\n",
    "]"
   ]
  },
  {
   "cell_type": "code",
   "execution_count": 43,
   "id": "acd00a57",
   "metadata": {},
   "outputs": [],
   "source": [
    "# Build a function to find users with similar interests\n",
    "def data_scientists_who_like(target_interest):\n",
    "    \"\"\"Find the ids of all the users who like the target interest.\"\"\"\n",
    "    return [user_id\n",
    "           for user_id, user_interest in interests\n",
    "           if user_interest == target_interest]"
   ]
  },
  {
   "cell_type": "markdown",
   "id": "6632078c",
   "metadata": {},
   "source": [
    "While this function works... if we had to examine the whole list of interests for every search when we have a larger number of users and interests, we're better off building an index from interests to users:"
   ]
  },
  {
   "cell_type": "code",
   "execution_count": 44,
   "id": "94ff409a",
   "metadata": {},
   "outputs": [],
   "source": [
    "from collections import defaultdict"
   ]
  },
  {
   "cell_type": "code",
   "execution_count": 45,
   "id": "98c61b98",
   "metadata": {},
   "outputs": [],
   "source": [
    "# Keys are interests, values are lists of user_ids with that interest\n",
    "user_ids_by_interest = defaultdict(list)\n",
    "\n",
    "for user_id, interest in interests:\n",
    "    user_ids_by_interest[interest].append(user_id)"
   ]
  },
  {
   "cell_type": "code",
   "execution_count": 46,
   "id": "f8544aaf",
   "metadata": {},
   "outputs": [],
   "source": [
    "# Keys are user_ids, values are lists of interests for that user_id\n",
    "interests_by_user_id = defaultdict(list)\n",
    "\n",
    "for user_id, interest in interests:\n",
    "    interests_by_user_id[user_id].append(interest)"
   ]
  },
  {
   "cell_type": "code",
   "execution_count": 47,
   "id": "3d6beba8",
   "metadata": {},
   "outputs": [
    {
     "name": "stdout",
     "output_type": "stream",
     "text": [
      "defaultdict(<class 'list'>, {'Hadoop': [0, 9], 'Big Data': [0, 8, 9], 'HBase': [0, 1], 'Java': [0, 5, 9], 'Spark': [0], 'Storm': [0], 'Cassandra': [0, 1], 'NoSQL': [1], 'MongoDB': [1], 'Postgres': [1], 'Python': [2, 3, 5], 'scikit-learn': [2, 7], 'scipy': [2], 'numpy': [2], 'statsmodels': [2], 'pandas': [2], 'R': [3, 5], 'statistics': [3, 6], 'regression': [3, 4], 'probability': [3, 6], 'machine learning': [4, 7], 'decision trees': [4], 'libsvm': [4], 'C++': [5], 'Haskell': [5], 'programming languages': [5], 'mathematics': [6], 'theory': [6], 'Mahout': [7], 'neural networks': [7, 8], 'deep learning': [8], 'artificial intelligence': [8], 'MapReduce': [9]})\n"
     ]
    }
   ],
   "source": [
    "print(user_ids_by_interest)"
   ]
  },
  {
   "cell_type": "code",
   "execution_count": 48,
   "id": "a4d234ec",
   "metadata": {},
   "outputs": [
    {
     "name": "stdout",
     "output_type": "stream",
     "text": [
      "defaultdict(<class 'list'>, {0: ['Hadoop', 'Big Data', 'HBase', 'Java', 'Spark', 'Storm', 'Cassandra'], 1: ['NoSQL', 'MongoDB', 'Cassandra', 'HBase', 'Postgres'], 2: ['Python', 'scikit-learn', 'scipy', 'numpy', 'statsmodels', 'pandas'], 3: ['R', 'Python', 'statistics', 'regression', 'probability'], 4: ['machine learning', 'regression', 'decision trees', 'libsvm'], 5: ['Python', 'R', 'Java', 'C++', 'Haskell', 'programming languages'], 6: ['statistics', 'probability', 'mathematics', 'theory'], 7: ['machine learning', 'scikit-learn', 'Mahout', 'neural networks'], 8: ['neural networks', 'deep learning', 'Big Data', 'artificial intelligence'], 9: ['Hadoop', 'Java', 'MapReduce', 'Big Data']})\n"
     ]
    }
   ],
   "source": [
    "print(interests_by_user_id)"
   ]
  },
  {
   "cell_type": "markdown",
   "id": "d87c90f9",
   "metadata": {},
   "source": [
    "Now it's easy to find who has the most interests in common with a given user:\n",
    "- Iterate over the user's interests\n",
    "- For each interest, iterate over other users with that interest\n",
    "- Keep count of how many times we see each other user"
   ]
  },
  {
   "cell_type": "code",
   "execution_count": 50,
   "id": "cac24608",
   "metadata": {},
   "outputs": [],
   "source": [
    "def most_common_interests_with(user):\n",
    "    return Counter(\n",
    "        interested_user_id \n",
    "        for interest in interests_by_user_id[user[\"id\"]]\n",
    "        for interested_user_id in user_ids_by_interest[interest]\n",
    "        if interested_user_id != user[\"id\"]\n",
    "    )"
   ]
  },
  {
   "cell_type": "code",
   "execution_count": 51,
   "id": "180be730",
   "metadata": {},
   "outputs": [
    {
     "data": {
      "text/plain": [
       "Counter({9: 3, 8: 1, 1: 2, 5: 1})"
      ]
     },
     "execution_count": 51,
     "metadata": {},
     "output_type": "execute_result"
    }
   ],
   "source": [
    "most_common_interests_with(users[0])"
   ]
  },
  {
   "cell_type": "markdown",
   "id": "74fc1a0d",
   "metadata": {},
   "source": [
    "# Salaries and Experience\n",
    "**Provide some fun facts about how much data scientists earn.**"
   ]
  },
  {
   "cell_type": "code",
   "execution_count": 52,
   "id": "d229ebbb",
   "metadata": {},
   "outputs": [],
   "source": [
    "salaries_and_tenures = [(83000, 8.7), (88000, 8.1),\n",
    "                        (48000, 0.7), (76000, 6),\n",
    "                        (69000, 6.5), (76000, 7.5),\n",
    "                        (60000, 2.5), (83000, 10),\n",
    "                        (48000, 1.9), (63000, 4.2)]"
   ]
  },
  {
   "cell_type": "code",
   "execution_count": 53,
   "id": "5114e5e4",
   "metadata": {},
   "outputs": [
    {
     "name": "stdout",
     "output_type": "stream",
     "text": [
      "{8.7: 83000.0, 8.1: 88000.0, 0.7: 48000.0, 6: 76000.0, 6.5: 69000.0, 7.5: 76000.0, 2.5: 60000.0, 10: 83000.0, 1.9: 48000.0, 4.2: 63000.0}\n"
     ]
    }
   ],
   "source": [
    "salary_by_tenure = defaultdict(list)\n",
    "\n",
    "for salary, tenure in salaries_and_tenures:\n",
    "    salary_by_tenure[tenure].append(salary)\n",
    "    \n",
    "average_salary_by_tenure = {\n",
    "    tenure: sum(salaries) / len(salaries)\n",
    "    for tenure, salaries in salary_by_tenure.items()\n",
    "}\n",
    "print(average_salary_by_tenure)"
   ]
  },
  {
   "cell_type": "markdown",
   "id": "fac404b3",
   "metadata": {},
   "source": [
    "Turns out to not be very useful, since none of the users have the same tenure. So we're just reporting the individual users' salaries. It may be more helpful to bucket the tenures."
   ]
  },
  {
   "cell_type": "code",
   "execution_count": 54,
   "id": "ba16d74e",
   "metadata": {},
   "outputs": [],
   "source": [
    "def tenure_bucket(tenure):\n",
    "    if tenure < 2:\n",
    "        return \"less than two\"\n",
    "    elif tenure < 5:\n",
    "        return \"between two and five\"\n",
    "    else:\n",
    "        return \"more than five\""
   ]
  },
  {
   "cell_type": "markdown",
   "id": "52a866fc",
   "metadata": {},
   "source": [
    "Then we group together the salaries corresponding to each bucket."
   ]
  },
  {
   "cell_type": "code",
   "execution_count": 56,
   "id": "58427e23",
   "metadata": {},
   "outputs": [
    {
     "name": "stdout",
     "output_type": "stream",
     "text": [
      "defaultdict(<class 'list'>, {'more than five': [83000, 88000, 76000, 69000, 76000, 83000], 'less than two': [48000, 48000], 'between two and five': [60000, 63000]})\n"
     ]
    }
   ],
   "source": [
    "salary_by_tenure_bucket = defaultdict(list)\n",
    "\n",
    "for salary, tenure in salaries_and_tenures:\n",
    "    bucket = tenure_bucket(tenure)\n",
    "    salary_by_tenure_bucket[bucket].append(salary)\n",
    "print(salary_by_tenure_bucket)"
   ]
  },
  {
   "cell_type": "markdown",
   "id": "408e8546",
   "metadata": {},
   "source": [
    "Finally, we compute the average salary for each group:"
   ]
  },
  {
   "cell_type": "code",
   "execution_count": 57,
   "id": "589eae99",
   "metadata": {},
   "outputs": [
    {
     "name": "stdout",
     "output_type": "stream",
     "text": [
      "{'more than five': 79166.66666666667, 'less than two': 48000.0, 'between two and five': 61500.0}\n"
     ]
    }
   ],
   "source": [
    "average_salary_by_bucket = {\n",
    "    tenure_bucket: sum(salaries) / len(salaries)\n",
    "    for tenure_bucket, salaries in salary_by_tenure_bucket.items()\n",
    "}\n",
    "print(average_salary_by_bucket)"
   ]
  },
  {
   "cell_type": "markdown",
   "id": "570a2e0a",
   "metadata": {},
   "source": [
    "Data scientists with more than five years experience earn 65% more than data scientists with little or no experience"
   ]
  },
  {
   "cell_type": "markdown",
   "id": "1acde22b",
   "metadata": {},
   "source": [
    "# Topics of Interest\n",
    "**What topics are users most interested in?**"
   ]
  },
  {
   "cell_type": "markdown",
   "id": "07cf4a73",
   "metadata": {},
   "source": [
    "A simple method is to count the words:\n",
    "- Lowercase each interest (since users may or may not capitalize their interests)\n",
    "- Split it into words\n",
    "- Count the results"
   ]
  },
  {
   "cell_type": "code",
   "execution_count": 58,
   "id": "96def200",
   "metadata": {},
   "outputs": [
    {
     "name": "stdout",
     "output_type": "stream",
     "text": [
      "Counter({'big': 3, 'data': 3, 'java': 3, 'python': 3, 'learning': 3, 'hadoop': 2, 'hbase': 2, 'cassandra': 2, 'scikit-learn': 2, 'r': 2, 'statistics': 2, 'regression': 2, 'probability': 2, 'machine': 2, 'neural': 2, 'networks': 2, 'spark': 1, 'storm': 1, 'nosql': 1, 'mongodb': 1, 'postgres': 1, 'scipy': 1, 'numpy': 1, 'statsmodels': 1, 'pandas': 1, 'decision': 1, 'trees': 1, 'libsvm': 1, 'c++': 1, 'haskell': 1, 'programming': 1, 'languages': 1, 'mathematics': 1, 'theory': 1, 'mahout': 1, 'deep': 1, 'artificial': 1, 'intelligence': 1, 'mapreduce': 1})\n"
     ]
    }
   ],
   "source": [
    "words_and_counts = Counter(word\n",
    "                          for user, interest in interests\n",
    "                          for word in interest.lower().split())\n",
    "print(words_and_counts)"
   ]
  },
  {
   "cell_type": "markdown",
   "id": "716880d3",
   "metadata": {},
   "source": [
    "This makes it easy to list out the words that occur more than once:"
   ]
  },
  {
   "cell_type": "code",
   "execution_count": 59,
   "id": "dcc5127b",
   "metadata": {},
   "outputs": [
    {
     "name": "stdout",
     "output_type": "stream",
     "text": [
      "big 3\n",
      "data 3\n",
      "java 3\n",
      "python 3\n",
      "learning 3\n",
      "hadoop 2\n",
      "hbase 2\n",
      "cassandra 2\n",
      "scikit-learn 2\n",
      "r 2\n",
      "statistics 2\n",
      "regression 2\n",
      "probability 2\n",
      "machine 2\n",
      "neural 2\n",
      "networks 2\n"
     ]
    }
   ],
   "source": [
    "for word, count in words_and_counts.most_common():\n",
    "    if count > 1:\n",
    "        print(word, count)"
   ]
  }
 ],
 "metadata": {
  "kernelspec": {
   "display_name": "Python 3 (ipykernel)",
   "language": "python",
   "name": "python3"
  },
  "language_info": {
   "codemirror_mode": {
    "name": "ipython",
    "version": 3
   },
   "file_extension": ".py",
   "mimetype": "text/x-python",
   "name": "python",
   "nbconvert_exporter": "python",
   "pygments_lexer": "ipython3",
   "version": "3.9.6"
  }
 },
 "nbformat": 4,
 "nbformat_minor": 5
}
