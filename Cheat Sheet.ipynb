{
 "cells": [
  {
   "cell_type": "markdown",
   "id": "baa498ca",
   "metadata": {},
   "source": [
    "# Adjusted R-Squared Formula"
   ]
  },
  {
   "cell_type": "markdown",
   "id": "d45ea317",
   "metadata": {},
   "source": [
    "$R^2_{adj.} = 1 - (1-R^2)*\\frac{n-1}{n-p-1}$"
   ]
  },
  {
   "cell_type": "markdown",
   "id": "e135e92a",
   "metadata": {},
   "source": [
    "n = x.shape[0] = number of observations\n",
    "\n",
    "p = x.shape[1] = number of predictors\n",
    "\n",
    "r2 = reg.score(x,y)"
   ]
  },
  {
   "cell_type": "code",
   "execution_count": 2,
   "id": "9733256d",
   "metadata": {},
   "outputs": [],
   "source": [
    "# Pre-made function\n",
    "\n",
    "def adjusted_r2(x,y):\n",
    "    r2 = reg.score(x,y)\n",
    "    n = x.shape[0]\n",
    "    p = x.shape[1]\n",
    "    return 1-(1-r2)*(n-1)/(n-p-1)"
   ]
  },
  {
   "cell_type": "markdown",
   "id": "a51e689f",
   "metadata": {},
   "source": [
    "# Calculate the univariate p-values of the variables (sklearn LinReg)"
   ]
  },
  {
   "cell_type": "code",
   "execution_count": null,
   "id": "d6214480",
   "metadata": {},
   "outputs": [],
   "source": [
    "from sklearn.feature_selection import f_regression\n",
    "f_regression(x_scaled,y)\n",
    "p_values = f_regression(x,y)[1]"
   ]
  },
  {
   "cell_type": "markdown",
   "id": "0b080dca",
   "metadata": {},
   "source": [
    "# Create a summary table (sklearn LinReg)"
   ]
  },
  {
   "cell_type": "code",
   "execution_count": null,
   "id": "2f0655dc",
   "metadata": {},
   "outputs": [],
   "source": [
    "reg_summary = pd.DataFrame(data = x.columns.values, columns=['Features'])\n",
    "reg_summary['Coefficients'] = reg.coef_\n",
    "reg_summary['p-values'] = p_values.round(3)"
   ]
  },
  {
   "cell_type": "markdown",
   "id": "374fd481",
   "metadata": {},
   "source": [
    "# Show more in table"
   ]
  },
  {
   "cell_type": "code",
   "execution_count": null,
   "id": "b9d6f694",
   "metadata": {},
   "outputs": [],
   "source": [
    "pd.options.display.max_rows = 999\n",
    "pd.set_option('display.float_format', lambda x: '%.2f' % x)"
   ]
  }
 ],
 "metadata": {
  "kernelspec": {
   "display_name": "Python 3 (ipykernel)",
   "language": "python",
   "name": "python3"
  },
  "language_info": {
   "codemirror_mode": {
    "name": "ipython",
    "version": 3
   },
   "file_extension": ".py",
   "mimetype": "text/x-python",
   "name": "python",
   "nbconvert_exporter": "python",
   "pygments_lexer": "ipython3",
   "version": "3.9.6"
  }
 },
 "nbformat": 4,
 "nbformat_minor": 5
}
