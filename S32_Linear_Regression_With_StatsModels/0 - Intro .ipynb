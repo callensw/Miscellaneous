{
 "cells": [
  {
   "attachments": {},
   "cell_type": "markdown",
   "id": "b775f807",
   "metadata": {},
   "source": [
    "## The Linear Regression Model\n",
    "\n",
    "- Linear Regression - An approximation of a causal relationship between two or more variables\n",
    "- Process\n",
    "    - Get sample data\n",
    "    - Design a model that works for that sample\n",
    "    - Make predictions for the whole population\n",
    "- Dependent variable - y\n",
    "    - Predicted\n",
    "- Independent variable - x1, x2, xk\n",
    "    - Predictors\n",
    "- Simple Linear Regression Model (Education & Income)\n",
    "        Y = B0(Constant - minimum wage) + B1x1(Quantifies the effect of education on income) + ε (error of estimation)"
   ]
  },
  {
   "cell_type": "markdown",
   "id": "196746f9",
   "metadata": {},
   "source": [
    "## Correlation vs Regression\n",
    "\n",
    "- Correlation does not imply causation\n",
    "- Correlation\n",
    "    - Relationship\n",
    "    - Movement together\n",
    "    - Relation between x and y is same as relation between y and x\n",
    "    - Single point\n",
    "- Regression\n",
    "    - How one variable effects the other\n",
    "    - Cause and effect\n",
    "    - One way\n",
    "    - Line"
   ]
  }
 ],
 "metadata": {
  "kernelspec": {
   "display_name": "Python 3 (ipykernel)",
   "language": "python",
   "name": "python3"
  },
  "language_info": {
   "codemirror_mode": {
    "name": "ipython",
    "version": 3
   },
   "file_extension": ".py",
   "mimetype": "text/x-python",
   "name": "python",
   "nbconvert_exporter": "python",
   "pygments_lexer": "ipython3",
   "version": "3.9.6"
  }
 },
 "nbformat": 4,
 "nbformat_minor": 5
}
