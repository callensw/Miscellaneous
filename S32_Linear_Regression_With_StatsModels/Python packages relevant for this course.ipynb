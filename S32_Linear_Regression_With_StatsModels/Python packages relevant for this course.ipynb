{
 "cells": [
  {
   "cell_type": "code",
   "execution_count": 2,
   "id": "3797ffdd",
   "metadata": {},
   "outputs": [],
   "source": [
    "import numpy as np\n",
    "import pandas as pd\n",
    "import scipy\n",
    "import statsmodels.api as sm\n",
    "import matplotlib as plt\n",
    "import seaborn as sns\n",
    "import sklearn"
   ]
  },
  {
   "cell_type": "markdown",
   "id": "14934ef5",
   "metadata": {},
   "source": [
    "## NumPy\n",
    "A third-party package allowing us to work with multidimensional arrays."
   ]
  },
  {
   "cell_type": "markdown",
   "id": "c1352497",
   "metadata": {},
   "source": [
    "## Pandas\n",
    "Allows us to organize data in a tabular form and to attach descriptive labels to the rows and columns"
   ]
  },
  {
   "cell_type": "markdown",
   "id": "bb1168bd",
   "metadata": {},
   "source": [
    "## Matplotlib\n",
    "A 2D plotting library specially designed for visualization of NumPy computations"
   ]
  },
  {
   "cell_type": "markdown",
   "id": "1173762f",
   "metadata": {},
   "source": [
    "## SciPy\n",
    "A Python ecosystem containing a lot of tools for scientific calculations"
   ]
  },
  {
   "cell_type": "markdown",
   "id": "a0f8cac7",
   "metadata": {},
   "source": [
    "## Seaborn \n",
    "A Python visualization library based on matplotlib"
   ]
  },
  {
   "cell_type": "markdown",
   "id": "7710bf2b",
   "metadata": {},
   "source": [
    "## StatsModels\n",
    "A package built on top of NumPy and SciPy, which integrates with pandas. SM provides very good summaries."
   ]
  },
  {
   "cell_type": "markdown",
   "id": "8fa3d3af",
   "metadata": {},
   "source": [
    "## scikit-learn\n",
    "sklearn is one of the most widely used machine learning libraries."
   ]
  },
  {
   "cell_type": "markdown",
   "id": "d5e18471",
   "metadata": {},
   "source": [
    "### More on StatsModels and scikit-learn\n",
    "We will use StatsModels to create and discuss regressions, but will also provide relevant code in sklearn.\n",
    "\n",
    "sklearn - the real deal\n",
    "statsmodels - makes it easier to understand the real deal"
   ]
  },
  {
   "cell_type": "code",
   "execution_count": null,
   "id": "47795aec",
   "metadata": {},
   "outputs": [],
   "source": []
  }
 ],
 "metadata": {
  "kernelspec": {
   "display_name": "Python 3 (ipykernel)",
   "language": "python",
   "name": "python3"
  },
  "language_info": {
   "codemirror_mode": {
    "name": "ipython",
    "version": 3
   },
   "file_extension": ".py",
   "mimetype": "text/x-python",
   "name": "python",
   "nbconvert_exporter": "python",
   "pygments_lexer": "ipython3",
   "version": "3.9.6"
  }
 },
 "nbformat": 4,
 "nbformat_minor": 5
}
