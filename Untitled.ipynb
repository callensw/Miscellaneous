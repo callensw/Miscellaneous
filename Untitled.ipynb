{
 "cells": [
  {
   "cell_type": "code",
   "execution_count": 25,
   "id": "4fa2c826",
   "metadata": {},
   "outputs": [
    {
     "name": "stdout",
     "output_type": "stream",
     "text": [
      "Number of drivers: 483\n",
      "        driver_id    sign_up_timestamp     pickup_datetime  \\\n",
      "355003        341  2016-01-01 00:00:00 2016-01-05 00:19:42   \n",
      "\n",
      "          dropoff_datetime    trip_duration  \n",
      "355003 2016-01-27 11:08:38 22 days 10:48:56  \n"
     ]
    }
   ],
   "source": [
    "import pandas as pd\n",
    "df = pd.read_excel(\"uber_driver_small_sample_data.xlsx\")\n",
    " \n",
    "# Question 2\n",
    "print(\"Number of drivers: \" + str(df['driver_id'].nunique())) \n",
    "# Question 3\n",
    "df['trip_duration'] = df['dropoff_datetime'] - df['pickup_datetime'] \n",
    "print(df[df['trip_duration'] == df['trip_duration'].max()])"
   ]
  },
  {
   "cell_type": "code",
   "execution_count": null,
   "id": "867a1aba",
   "metadata": {},
   "outputs": [],
   "source": [
    "print(\"Number of rows: \" + str(len(df)))"
   ]
  },
  {
   "cell_type": "code",
   "execution_count": null,
   "id": "f39d1568",
   "metadata": {},
   "outputs": [],
   "source": [
    "print(\"Number of drivers: \" + str(df['driver_id'].nunique()))"
   ]
  },
  {
   "cell_type": "code",
   "execution_count": null,
   "id": "f097161b",
   "metadata": {},
   "outputs": [],
   "source": [
    "df.head()"
   ]
  },
  {
   "cell_type": "code",
   "execution_count": null,
   "id": "89b56017",
   "metadata": {},
   "outputs": [],
   "source": [
    "df['trip_duration'] = df['dropoff_datetime'] - df['pickup_datetime']"
   ]
  },
  {
   "cell_type": "code",
   "execution_count": null,
   "id": "49b286ba",
   "metadata": {},
   "outputs": [],
   "source": [
    "df['trip_duration'].max()"
   ]
  },
  {
   "cell_type": "code",
   "execution_count": null,
   "id": "000d5c7a",
   "metadata": {},
   "outputs": [],
   "source": [
    "print(df[df['trip_duration'] == df['trip_duration'].max()])"
   ]
  },
  {
   "cell_type": "code",
   "execution_count": null,
   "id": "42f2e3df",
   "metadata": {},
   "outputs": [],
   "source": [
    "df['sign_up_timestamp'] = pd.to_datetime(df['sign_up_timestamp'])"
   ]
  },
  {
   "cell_type": "code",
   "execution_count": null,
   "id": "2f78da12",
   "metadata": {},
   "outputs": [],
   "source": [
    "df['time_from_signup'] = df['pickup_datetime'] - df['sign_up_timestamp']"
   ]
  },
  {
   "cell_type": "code",
   "execution_count": null,
   "id": "7796e781",
   "metadata": {},
   "outputs": [],
   "source": [
    "df2 = df[df['time_from_signup'] <= pd.Timedelta('1 day')]"
   ]
  },
  {
   "cell_type": "code",
   "execution_count": null,
   "id": "013608ca",
   "metadata": {},
   "outputs": [],
   "source": [
    "df2['driver_id'].nunique()"
   ]
  },
  {
   "cell_type": "code",
   "execution_count": null,
   "id": "1f9c6d08",
   "metadata": {},
   "outputs": [],
   "source": [
    "df2.head()"
   ]
  },
  {
   "cell_type": "code",
   "execution_count": null,
   "id": "6d0cbc35",
   "metadata": {},
   "outputs": [],
   "source": [
    "# Question 4\n",
    "df['sign_up_timestamp'] = pd.to_datetime(df['sign_up_timestamp'])\n",
    "df['time_from_signup'] = df['pickup_datetime'] - df['sign_up_timestamp']\n",
    "df2 = df[df['time_from_signup'] <= pd.Timedelta('1 hour')]\n",
    "df2['driver_id'].nunique()"
   ]
  },
  {
   "cell_type": "code",
   "execution_count": null,
   "id": "88b479ac",
   "metadata": {},
   "outputs": [],
   "source": [
    "df2.head()"
   ]
  },
  {
   "cell_type": "code",
   "execution_count": null,
   "id": "d19e1320",
   "metadata": {},
   "outputs": [],
   "source": [
    "df2['num_of_trips_within_one_hour_sign_up'] = df2.groupby(['driver_id'])['time_from_signup'].count().median()"
   ]
  },
  {
   "cell_type": "code",
   "execution_count": null,
   "id": "e90c0b95",
   "metadata": {},
   "outputs": [],
   "source": [
    "df2.head()"
   ]
  },
  {
   "cell_type": "code",
   "execution_count": null,
   "id": "8913ef2a",
   "metadata": {},
   "outputs": [],
   "source": [
    "df2['num_of_trips_within_one_hour_sign_up'].median()"
   ]
  },
  {
   "cell_type": "code",
   "execution_count": 73,
   "id": "a2fe12cb",
   "metadata": {
    "scrolled": true
   },
   "outputs": [
    {
     "data": {
      "text/plain": [
       "Text(0.5, 0, 'Trip Duration (min)')"
      ]
     },
     "execution_count": 73,
     "metadata": {},
     "output_type": "execute_result"
    },
    {
     "data": {
      "image/png": "[encoded data removed]",
      "text/plain": [
       "<Figure size 432x288 with 1 Axes>"
      ]
     },
     "metadata": {
      "needs_background": "light"
     },
     "output_type": "display_data"
    }
   ],
   "source": [
    "import matplotlib.pyplot as plt\n",
    "import numpy as np\n",
    "import datetime\n",
    "df.dtypes\n",
    "plt.hist(x, density=True,bins=50,range=[0,60])\n",
    "plt.xlabel(\"Trip Duration (min)\")"
   ]
  },
  {
   "cell_type": "code",
   "execution_count": null,
   "id": "ea4e8ae4",
   "metadata": {},
   "outputs": [],
   "source": [
    "df"
   ]
  },
  {
   "cell_type": "code",
   "execution_count": 34,
   "id": "963213fd",
   "metadata": {},
   "outputs": [],
   "source": [
    "df = pd.read_excel(\"uber_driver_small_sample_data.xlsx\")"
   ]
  },
  {
   "cell_type": "code",
   "execution_count": 35,
   "id": "f07b1af9",
   "metadata": {},
   "outputs": [],
   "source": [
    "df['trip_duration'] = df['dropoff_datetime'] - df['pickup_datetime'] "
   ]
  },
  {
   "cell_type": "code",
   "execution_count": 42,
   "id": "b2448953",
   "metadata": {},
   "outputs": [],
   "source": [
    "x = df['trip_duration']"
   ]
  },
  {
   "cell_type": "code",
   "execution_count": 50,
   "id": "14fb99a2",
   "metadata": {},
   "outputs": [],
   "source": [
    "x = x.dt.seconds"
   ]
  },
  {
   "cell_type": "code",
   "execution_count": 68,
   "id": "6aaf64ee",
   "metadata": {},
   "outputs": [],
   "source": [
    "x = x/60"
   ]
  },
  {
   "cell_type": "code",
   "execution_count": null,
   "id": "ba2ec963",
   "metadata": {},
   "outputs": [],
   "source": []
  }
 ],
 "metadata": {
  "kernelspec": {
   "display_name": "Python 3 (ipykernel)",
   "language": "python",
   "name": "python3"
  },
  "language_info": {
   "codemirror_mode": {
    "name": "ipython",
    "version": 3
   },
   "file_extension": ".py",
   "mimetype": "text/x-python",
   "name": "python",
   "nbconvert_exporter": "python",
   "pygments_lexer": "ipython3",
   "version": "3.9.6"
  }
 },
 "nbformat": 4,
 "nbformat_minor": 5
}
